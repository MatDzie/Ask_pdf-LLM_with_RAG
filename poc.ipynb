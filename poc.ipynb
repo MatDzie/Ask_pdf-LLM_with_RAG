{
 "cells": [
  {
   "cell_type": "markdown",
   "metadata": {},
   "source": [
    "## OpenAI API - test connection"
   ]
  },
  {
   "cell_type": "code",
   "execution_count": 3,
   "metadata": {},
   "outputs": [
    {
     "name": "stdout",
     "output_type": "stream",
     "text": [
      "ChatCompletionMessage(content=\"Why don't computers trust humans?\\nBecause they always byte!\", role='assistant', function_call=None, tool_calls=None)\n"
     ]
    }
   ],
   "source": [
    "from openai import OpenAI\n",
    "\n",
    "client = OpenAI()\n",
    "\n",
    "completion = client.chat.completions.create(\n",
    "  model=\"gpt-3.5-turbo\",\n",
    "  messages=[\n",
    "    {\"role\": \"system\", \"content\": \"You are helpful asistant. You give only short answers\"},\n",
    "    {\"role\": \"user\", \"content\": \"Tell a joke about AI.\"}\n",
    "  ]\n",
    ")\n",
    "\n",
    "print(completion.choices[0].message)"
   ]
  },
  {
   "cell_type": "markdown",
   "metadata": {},
   "source": [
    "##  pypdf - pdf loading"
   ]
  },
  {
   "cell_type": "code",
   "execution_count": 7,
   "metadata": {},
   "outputs": [
    {
     "name": "stdout",
     "output_type": "stream",
     "text": [
      "4\n",
      "CNDXiShares NASDAQ 100 UCITS ETF USD \n",
      "(Acc)\n",
      "October Factsheet\n",
      "Performance, Portfolio Breakdowns and Net Asset information as at: 31-Oct-\n",
      "2023\n",
      "All other data as at 06-Nov-2023\n",
      "This document is marketing material.  For Investors in the UK. Investors should read the KIID/\n",
      "PRIIPs document and prospectus prior to investing, and should refer to the prospectus for the \n",
      "funds full list of risks.\n",
      "The Fund seeks to track the performance of an index composed of 100 of the largest non-financial \n",
      "companies listed on the NASDAQ Stock Market.\n",
      "KEY BENEFITS\n",
      "1 Targeted exposure to the largest non-financial stocks listed on The Nasdaq Stock Market\n",
      "2 Direct investment into companies across major industry groups including computer \n",
      "hardware and software, telecommunications, retail/wholesale trade and biotechnology\n",
      "3 International and large market capitalisation companies exposure\n",
      "KEY RISKS: Investment risk is concentrated in specific sectors, countries, currencies or \n",
      "companies. This means the Fund is more sensitive to any localised economic, market, political or \n",
      "regulatory events. The value of equities and equity-related securities can be affected by daily stock \n",
      "market movements. Other influential factors include political, economic news, company earnings \n",
      "and significant corporate events. Counterparty Risk: The insolvency of any institutions providing \n",
      "services such as safekeeping of assets or acting as counterparty to derivatives or other \n",
      "instruments, may expose the Fund to financial loss.\n",
      "GROWTH OF HYPOTHETICAL 10,000 USD SINCE INCEPTION\n",
      "Fund\n",
      " Benchmark\n",
      " \n",
      "CALENDAR YEAR PERFORMANCE (% USD)\n",
      "Fund Benchmark \n",
      "The  figures  shown  relate  to  past  performance.  Past  performance  is  not  a  reliable  indicator  of  future\n",
      "results and should not be the sole factor of consideration when selecting a product or strategy.  Share\n",
      "Class  and  Benchmark  performance  displayed  in  USD,  hedged  fund  benchmark  performance  is  displayed  in\n",
      "USD. Performance is shown on a Net Asset Value (NAV) basis, with gross income reinvested where applicable.\n",
      "Performance data is based on the net asset value (NAV) of the ETF which may not be the same as the market\n",
      "price  of  the  ETF.  Individual  shareholders  may  realize  returns  that  are  different  to  the  NAV  performance.  The\n",
      "return  of  your  investment  may  increase  or  decrease  as  a  result  of  currency  fluctuations  if  your  investment  is\n",
      "made in a currency other than that used in the past performance calculation. Source:  BlackRockCAPITAL AT RISK:  The value of investments \n",
      "and the income from them can fall as well as \n",
      "rise and are not guaranteed. Investors may not \n",
      "get back the amount originally invested.\n",
      "KEY FACTS\n",
      "Asset Class Equity\n",
      "Fund Base Currency USD\n",
      "Share Class Currency USD\n",
      "Fund Launch Date 26-Jan-2010\n",
      "Share Class Launch Date 26-Jan-2010\n",
      "Benchmark NASDAQ-100® Index\n",
      "ISIN IE00B53SZB19\n",
      "Total Expense Ratio 0.33%\n",
      "Distribution Frequency None\n",
      "Domicile Ireland\n",
      "Methodology Replicated\n",
      "Product Structure Physical\n",
      "Rebalance Frequency Quarterly\n",
      "UCITS Yes\n",
      "ISA Eligibility Yes\n",
      "SIPP Available Yes\n",
      "UK Reporting Status Yes\n",
      "Use of Income Accumulating\n",
      "Management Company iShares VII plc\n",
      "Net Assets of Fund USD 9,934,945,872\n",
      "Net Assets of Share Class USD 9,337,349,023\n",
      "Number of Holdings 101\n",
      "Shares Outstanding 11,384,589\n",
      "Benchmark Ticker XNDXNNR\n",
      "Fund Type UCITS\n",
      "TOP HOLDINGS (%)\n",
      "APPLE INC 11.01\n",
      "MICROSOFT CORP 10.36\n",
      "AMAZON COM INC 5.66\n",
      "NVIDIA CORP 4.15\n",
      "META PLATFORMS INC CLASS A 3.87\n",
      "BROADCOM INC 3.07\n",
      "ALPHABET INC CLASS A 3.03\n",
      "ALPHABET INC CLASS C 3.00\n",
      "TESLA INC 2.63\n",
      "COSTCO WHOLESALE CORP 2.16\n",
      "48.94\n",
      "Holdings are subject to change.\n"
     ]
    }
   ],
   "source": [
    "from pypdf import PdfReader\n",
    "\n",
    "reader = PdfReader(\"data/cndx-etf-nsadaq100.pdf\")\n",
    "number_of_pages = len(reader.pages)\n",
    "page = reader.pages[0]\n",
    "text = page.extract_text()\n",
    "\n",
    "print(number_of_pages)\n",
    "print(text)"
   ]
  }
 ],
 "metadata": {
  "kernelspec": {
   "display_name": "Python 3",
   "language": "python",
   "name": "python3"
  },
  "language_info": {
   "codemirror_mode": {
    "name": "ipython",
    "version": 3
   },
   "file_extension": ".py",
   "mimetype": "text/x-python",
   "name": "python",
   "nbconvert_exporter": "python",
   "pygments_lexer": "ipython3",
   "version": "3.10.11"
  }
 },
 "nbformat": 4,
 "nbformat_minor": 2
}
