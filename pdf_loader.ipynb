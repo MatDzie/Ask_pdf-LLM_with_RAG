{
 "cells": [
  {
   "cell_type": "code",
   "execution_count": null,
   "metadata": {},
   "outputs": [],
   "source": [
    "import os\n",
    "\n",
    "directory_path = 'data/'\n",
    "document_list = os.listdir(directory_path)"
   ]
  },
  {
   "cell_type": "code",
   "execution_count": null,
   "metadata": {},
   "outputs": [],
   "source": [
    "from pypdf import PdfReader\n",
    "import uuid\n",
    "\n",
    "documents = []\n",
    "metadatas = []\n",
    "ids = []\n",
    "\n",
    "for document_name in document_list:\n",
    "    for index, page in enumerate(PdfReader(directory_path + document_name).pages):\n",
    "        documents.append(page.extract_text())\n",
    "        metadatas.append({'source': document_name, 'page_number': index})\n",
    "        ids.append(str(uuid.uuid4()))\n",
    "        "
   ]
  },
  {
   "cell_type": "code",
   "execution_count": null,
   "metadata": {},
   "outputs": [],
   "source": [
    "import chromadb\n",
    "\n",
    "chroma_client = chromadb.EphemeralClient()\n",
    "\n",
    "collection = chroma_client.create_collection(name=\"my_collection\")\n",
    "#chroma_client.delete_collection(\"my_collection\")\n",
    "\n",
    "collection.add(\n",
    "    documents=documents,\n",
    "    metadatas=metadatas,\n",
    "    ids=ids\n",
    ")"
   ]
  },
  {
   "cell_type": "code",
   "execution_count": null,
   "metadata": {},
   "outputs": [],
   "source": [
    "results = collection.query(\n",
    "    query_texts=[\"query\"],\n",
    "    n_results=5\n",
    ")\n",
    "\n",
    "results"
   ]
  }
 ],
 "metadata": {
  "language_info": {
   "name": "python"
  }
 },
 "nbformat": 4,
 "nbformat_minor": 2
}
